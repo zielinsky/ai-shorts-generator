{
 "cells": [
  {
   "cell_type": "code",
   "execution_count": 1,
   "id": "initial_id",
   "metadata": {
    "collapsed": true,
    "ExecuteTime": {
     "end_time": "2024-08-25T18:50:59.470399Z",
     "start_time": "2024-08-25T18:50:52.812010200Z"
    }
   },
   "outputs": [
    {
     "name": "stdout",
     "output_type": "stream",
     "text": [
      "Requirement already satisfied: g4f in c:\\python310\\lib\\site-packages (0.3.2.4)\n",
      "Requirement already satisfied: aiohttp in c:\\python310\\lib\\site-packages (from g4f) (3.8.6)\n",
      "Requirement already satisfied: brotli in c:\\python310\\lib\\site-packages (from g4f) (1.1.0)\n",
      "Requirement already satisfied: requests in c:\\python310\\lib\\site-packages (from g4f) (2.31.0)\n",
      "Requirement already satisfied: pycryptodome in c:\\python310\\lib\\site-packages (from g4f) (3.19.0)\n",
      "Requirement already satisfied: multidict<7.0,>=4.5 in c:\\python310\\lib\\site-packages (from aiohttp->g4f) (6.0.4)\n",
      "Requirement already satisfied: charset-normalizer<4.0,>=2.0 in c:\\python310\\lib\\site-packages (from aiohttp->g4f) (3.3.1)\n",
      "Requirement already satisfied: attrs>=17.3.0 in c:\\python310\\lib\\site-packages (from aiohttp->g4f) (23.1.0)\n",
      "Requirement already satisfied: frozenlist>=1.1.1 in c:\\python310\\lib\\site-packages (from aiohttp->g4f) (1.4.0)\n",
      "Requirement already satisfied: aiosignal>=1.1.2 in c:\\python310\\lib\\site-packages (from aiohttp->g4f) (1.3.1)\n",
      "Requirement already satisfied: async-timeout<5.0,>=4.0.0a3 in c:\\python310\\lib\\site-packages (from aiohttp->g4f) (4.0.3)\n",
      "Requirement already satisfied: yarl<2.0,>=1.0 in c:\\python310\\lib\\site-packages (from aiohttp->g4f) (1.9.2)\n",
      "Requirement already satisfied: urllib3<3,>=1.21.1 in c:\\python310\\lib\\site-packages (from requests->g4f) (2.0.7)\n",
      "Requirement already satisfied: certifi>=2017.4.17 in c:\\python310\\lib\\site-packages (from requests->g4f) (2023.7.22)\n",
      "Requirement already satisfied: idna<4,>=2.5 in c:\\python310\\lib\\site-packages (from requests->g4f) (3.4)\n"
     ]
    },
    {
     "name": "stderr",
     "output_type": "stream",
     "text": [
      "WARNING: Ignoring invalid distribution -4f (c:\\python310\\lib\\site-packages)\n",
      "WARNING: Ignoring invalid distribution -ip (c:\\python310\\lib\\site-packages)\n",
      "WARNING: Ignoring invalid distribution -4f (c:\\python310\\lib\\site-packages)\n",
      "WARNING: Ignoring invalid distribution -ip (c:\\python310\\lib\\site-packages)\n",
      "WARNING: Ignoring invalid distribution -4f (c:\\python310\\lib\\site-packages)\n",
      "WARNING: Ignoring invalid distribution -ip (c:\\python310\\lib\\site-packages)\n",
      "WARNING: Ignoring invalid distribution -4f (c:\\python310\\lib\\site-packages)\n",
      "WARNING: Ignoring invalid distribution -ip (c:\\python310\\lib\\site-packages)\n",
      "WARNING: Ignoring invalid distribution -4f (c:\\python310\\lib\\site-packages)\n",
      "WARNING: Ignoring invalid distribution -ip (c:\\python310\\lib\\site-packages)\n",
      "WARNING: There was an error checking the latest version of pip.\n"
     ]
    }
   ],
   "source": [
    "!pip install -U g4f"
   ]
  },
  {
   "cell_type": "code",
   "outputs": [],
   "source": [
    "!pip install gdown"
   ],
   "metadata": {
    "collapsed": false
   },
   "id": "e321e6149b4f8a61",
   "execution_count": null
  },
  {
   "cell_type": "code",
   "outputs": [],
   "source": [
    "!gdown --folder https://drive.google.com/drive/folders/1Dg-1GFfkLrTZz76zPLXHMdMVvOb54VgV"
   ],
   "metadata": {
    "collapsed": false
   },
   "id": "3974bd8970d8942d",
   "execution_count": null
  },
  {
   "cell_type": "code",
   "outputs": [
    {
     "name": "stdout",
     "output_type": "stream",
     "text": [
      "Requirement already satisfied: moviepy in c:\\python310\\lib\\site-packages (1.0.3)\n",
      "Requirement already satisfied: decorator<5.0,>=4.0.2 in c:\\python310\\lib\\site-packages (from moviepy) (4.4.2)\n",
      "Requirement already satisfied: tqdm<5.0,>=4.11.2 in c:\\python310\\lib\\site-packages (from moviepy) (4.66.1)\n",
      "Requirement already satisfied: requests<3.0,>=2.8.1 in c:\\python310\\lib\\site-packages (from moviepy) (2.31.0)\n",
      "Requirement already satisfied: proglog<=1.0.0 in c:\\python310\\lib\\site-packages (from moviepy) (0.1.10)\n",
      "Requirement already satisfied: numpy>=1.17.3 in c:\\python310\\lib\\site-packages (from moviepy) (1.24.2)\n",
      "Requirement already satisfied: imageio<3.0,>=2.5 in c:\\python310\\lib\\site-packages (from moviepy) (2.34.2)\n",
      "Requirement already satisfied: imageio_ffmpeg>=0.2.0 in c:\\python310\\lib\\site-packages (from moviepy) (0.4.9)\n",
      "Requirement already satisfied: pillow>=8.3.2 in c:\\python310\\lib\\site-packages (from imageio<3.0,>=2.5->moviepy) (10.4.0)\n",
      "Requirement already satisfied: setuptools in c:\\python310\\lib\\site-packages (from imageio_ffmpeg>=0.2.0->moviepy) (63.2.0)\n",
      "Requirement already satisfied: certifi>=2017.4.17 in c:\\python310\\lib\\site-packages (from requests<3.0,>=2.8.1->moviepy) (2023.7.22)\n",
      "Requirement already satisfied: charset-normalizer<4,>=2 in c:\\python310\\lib\\site-packages (from requests<3.0,>=2.8.1->moviepy) (3.3.1)\n",
      "Requirement already satisfied: urllib3<3,>=1.21.1 in c:\\python310\\lib\\site-packages (from requests<3.0,>=2.8.1->moviepy) (2.0.7)\n",
      "Requirement already satisfied: idna<4,>=2.5 in c:\\python310\\lib\\site-packages (from requests<3.0,>=2.8.1->moviepy) (3.4)\n",
      "Requirement already satisfied: colorama in c:\\python310\\lib\\site-packages (from tqdm<5.0,>=4.11.2->moviepy) (0.4.6)\n"
     ]
    },
    {
     "name": "stderr",
     "output_type": "stream",
     "text": [
      "WARNING: Ignoring invalid distribution -4f (c:\\python310\\lib\\site-packages)\n",
      "WARNING: Ignoring invalid distribution -ip (c:\\python310\\lib\\site-packages)\n",
      "WARNING: Ignoring invalid distribution -4f (c:\\python310\\lib\\site-packages)\n",
      "WARNING: Ignoring invalid distribution -ip (c:\\python310\\lib\\site-packages)\n",
      "WARNING: Ignoring invalid distribution -4f (c:\\python310\\lib\\site-packages)\n",
      "WARNING: Ignoring invalid distribution -ip (c:\\python310\\lib\\site-packages)\n",
      "WARNING: Ignoring invalid distribution -4f (c:\\python310\\lib\\site-packages)\n",
      "WARNING: Ignoring invalid distribution -ip (c:\\python310\\lib\\site-packages)\n",
      "WARNING: Ignoring invalid distribution -4f (c:\\python310\\lib\\site-packages)\n",
      "WARNING: Ignoring invalid distribution -ip (c:\\python310\\lib\\site-packages)\n",
      "WARNING: There was an error checking the latest version of pip.\n"
     ]
    }
   ],
   "source": [
    "!pip install moviepy"
   ],
   "metadata": {
    "collapsed": false,
    "ExecuteTime": {
     "end_time": "2024-08-25T18:51:02.776339Z",
     "start_time": "2024-08-25T18:50:59.421755800Z"
    }
   },
   "id": "d4c76b438b808de4",
   "execution_count": 2
  },
  {
   "cell_type": "code",
   "outputs": [],
   "source": [
    "!pip install pyt2s"
   ],
   "metadata": {
    "collapsed": false
   },
   "id": "42ef7efa8cdff9f4",
   "execution_count": null
  },
  {
   "cell_type": "code",
   "outputs": [],
   "source": [
    "!pip install pydub"
   ],
   "metadata": {
    "collapsed": false
   },
   "id": "445ed6e70b79cbfb"
  },
  {
   "cell_type": "code",
   "outputs": [],
   "source": [
    "!pip install faster-whisper\n",
    "!pip install ffmpeg-python"
   ],
   "metadata": {
    "collapsed": false
   },
   "id": "4d239fdaeafa6503",
   "execution_count": null
  },
  {
   "cell_type": "code",
   "outputs": [],
   "source": [
    "import moviepy.editor as mp\n",
    "import random"
   ],
   "metadata": {
    "collapsed": false,
    "ExecuteTime": {
     "end_time": "2024-08-25T18:51:05.531430700Z",
     "start_time": "2024-08-25T18:51:02.778341100Z"
    }
   },
   "id": "fe55134f204eb171",
   "execution_count": 3
  },
  {
   "cell_type": "code",
   "outputs": [],
   "source": [
    "input_video_path = 'template_videos/video0.mov'\n",
    "output_video_path = 'output_video.mp4'"
   ],
   "metadata": {
    "collapsed": false,
    "ExecuteTime": {
     "end_time": "2024-08-25T18:51:05.554967100Z",
     "start_time": "2024-08-25T18:51:05.533947300Z"
    }
   },
   "id": "7367415ae7daacf7",
   "execution_count": 4
  },
  {
   "cell_type": "code",
   "outputs": [],
   "source": [
    "video = mp.VideoFileClip(input_video_path)"
   ],
   "metadata": {
    "collapsed": false,
    "ExecuteTime": {
     "end_time": "2024-08-25T18:51:05.873965100Z",
     "start_time": "2024-08-25T18:51:05.548932700Z"
    }
   },
   "id": "e2e45079992a70c3",
   "execution_count": 5
  },
  {
   "cell_type": "code",
   "outputs": [
    {
     "data": {
      "text/plain": "1199.98"
     },
     "execution_count": 6,
     "metadata": {},
     "output_type": "execute_result"
    }
   ],
   "source": [
    "video_duration = video.duration\n",
    "video_duration"
   ],
   "metadata": {
    "collapsed": false,
    "ExecuteTime": {
     "end_time": "2024-08-25T18:51:05.901562500Z",
     "start_time": "2024-08-25T18:51:05.874976300Z"
    }
   },
   "id": "bcf134cf256aa2b9",
   "execution_count": 6
  },
  {
   "cell_type": "markdown",
   "source": [
    "# Randomly select a 60-second segment from the video"
   ],
   "metadata": {
    "collapsed": false
   },
   "id": "7efb27e980173b1c"
  },
  {
   "cell_type": "code",
   "outputs": [],
   "source": [
    "start_time = random.uniform(0, video_duration - 60)"
   ],
   "metadata": {
    "collapsed": false,
    "ExecuteTime": {
     "end_time": "2024-08-25T18:51:13.193729600Z",
     "start_time": "2024-08-25T18:51:13.183703Z"
    }
   },
   "id": "3c1c9d8e04707b98",
   "execution_count": 7
  },
  {
   "cell_type": "code",
   "outputs": [],
   "source": [
    "output_video = video.subclip(start_time, start_time + 60)"
   ],
   "metadata": {
    "collapsed": false,
    "ExecuteTime": {
     "end_time": "2024-08-25T18:51:15.943998900Z",
     "start_time": "2024-08-25T18:51:15.571446800Z"
    }
   },
   "id": "77152e7551d0eff8",
   "execution_count": 8
  },
  {
   "cell_type": "markdown",
   "source": [
    "# Generate video content"
   ],
   "metadata": {
    "collapsed": false
   },
   "id": "a0be3976e74ca4"
  },
  {
   "cell_type": "code",
   "outputs": [
    {
     "name": "stdout",
     "output_type": "stream",
     "text": [
      "CohereForAI/c4ai-command-r-plus\n"
     ]
    },
    {
     "data": {
      "text/plain": "\"Here are a few jokes that might be suitable for a video:\\n\\n- Why did the chicken cross the road? To get to the other side!\\n- What do you call a bear with no teeth? A gummy bear!\\n- Why did the banana go to the doctor? Because he wasn't peeling well!\\n- Why did the cookie go to the doctor? Because he was feeling crummy!\\n- Why did the tomato turn red? Because it saw the salad dressing!\\n- What do you call a pony with a cough? A little horse!\\n- Why did the student eat his homework? Because the teacher said it was a piece of cake!\\n- What did the shark say when he ate the clown? This tastes a little funny!\\n- Why did the ghost go to the doctor? Because he had a bad cold!\\n- What do you call a pony with a high IQ? A smarty pants!\\n\\nThese jokes are lighthearted and playful, and may bring a smile to your viewers' faces.\""
     },
     "execution_count": 9,
     "metadata": {},
     "output_type": "execute_result"
    }
   ],
   "source": [
    "from g4f.client import Client\n",
    "from g4f import Provider\n",
    "\n",
    "client = Client()\n",
    "response = client.chat.completions.create(\n",
    "    model=\"command-r+\",\n",
    "    messages=[{\"role\": \"user\", \"content\": \"Generate some funny joke for my new video.\"}],\n",
    "    provider= Provider.HuggingChat\n",
    ")\n",
    "\n",
    "video_text = response.choices[0].message.content\n",
    "video_text"
   ],
   "metadata": {
    "collapsed": false,
    "ExecuteTime": {
     "end_time": "2024-08-25T18:51:48.481013700Z",
     "start_time": "2024-08-25T18:51:21.210003100Z"
    }
   },
   "id": "96c5a1858659c1a6",
   "execution_count": 9
  },
  {
   "cell_type": "code",
   "outputs": [
    {
     "data": {
      "text/plain": "\"Here are a few jokes that might be suitable for a video:\\n  Why did the chicken cross the road? To get to the other side!  What do you call a bear with no teeth? A gummy bear!  Why did the banana go to the doctor? Because he wasn't peeling well!  Why did the cookie go to the doctor? Because he was feeling crummy!  Why did the tomato turn red? Because it saw the salad dressing!  What do you call a pony with a cough? A little horse!  Why did the student eat his homework? Because the teacher said it was a piece of cake!  What did the shark say when he ate the clown? This tastes a little funny!  Why did the ghost go to the doctor? Because he had a bad cold!  What do you call a pony with a high IQ? A smarty pants!\\n\\nThese jokes are lighthearted and playful, and may bring a smile to your viewers' faces.\""
     },
     "execution_count": 10,
     "metadata": {},
     "output_type": "execute_result"
    }
   ],
   "source": [
    "video_text = video_text.replace('\\n-', ' ')\n",
    "video_text"
   ],
   "metadata": {
    "collapsed": false,
    "ExecuteTime": {
     "end_time": "2024-08-25T18:51:54.309902100Z",
     "start_time": "2024-08-25T18:51:54.258041600Z"
    }
   },
   "id": "a266ebc814debcd2",
   "execution_count": 10
  },
  {
   "cell_type": "markdown",
   "source": [
    "# Generate audio from content text"
   ],
   "metadata": {
    "collapsed": false
   },
   "id": "cbbd7e43163b5268"
  },
  {
   "cell_type": "code",
   "outputs": [],
   "source": [
    "from pyt2s.services import stream_elements\n",
    "\n",
    "data = stream_elements.requestTTS(video_text, stream_elements.Voice.Matthew.value)"
   ],
   "metadata": {
    "collapsed": false,
    "ExecuteTime": {
     "end_time": "2024-08-25T18:52:00.035140200Z",
     "start_time": "2024-08-25T18:51:58.980241Z"
    }
   },
   "id": "8f9e371c0c8d2c5e",
   "execution_count": 11
  },
  {
   "cell_type": "code",
   "outputs": [],
   "source": [
    "from pydub import AudioSegment\n",
    "from io import BytesIO\n",
    "\n",
    "def slow_down_audio(audio_bytes, slowdown_percentage):\n",
    "    slowdown_factor = 1 + slowdown_percentage / 100.0\n",
    "    \n",
    "    audio = AudioSegment.from_file(BytesIO(audio_bytes), format=\"mp3\")\n",
    "    \n",
    "    new_duration = len(audio) * slowdown_factor\n",
    "    \n",
    "    slowed_down_audio = audio._spawn(audio.raw_data, overrides={\n",
    "        \"frame_rate\": int(audio.frame_rate / slowdown_factor)\n",
    "    }).set_frame_rate(audio.frame_rate)\n",
    "    \n",
    "    output_io = BytesIO()\n",
    "    slowed_down_audio.export(output_io, format=\"wav\")\n",
    "    \n",
    "    return output_io.getvalue()"
   ],
   "metadata": {
    "collapsed": false,
    "ExecuteTime": {
     "end_time": "2024-08-25T18:52:02.618953900Z",
     "start_time": "2024-08-25T18:52:02.568638900Z"
    }
   },
   "id": "ee6fd916a3deb844",
   "execution_count": 12
  },
  {
   "cell_type": "markdown",
   "source": [
    "# Save the generated audio"
   ],
   "metadata": {
    "collapsed": false
   },
   "id": "4d8df50d305f1f53"
  },
  {
   "cell_type": "code",
   "outputs": [],
   "source": [
    "video_audio = slow_down_audio(data, 10)\n",
    "\n",
    "with open('output.mp3', '+wb') as file:\n",
    "    file.write(video_audio)"
   ],
   "metadata": {
    "collapsed": false,
    "ExecuteTime": {
     "end_time": "2024-08-25T18:52:05.943929100Z",
     "start_time": "2024-08-25T18:52:04.878733Z"
    }
   },
   "id": "4242aa055588c3b5",
   "execution_count": 13
  },
  {
   "cell_type": "code",
   "outputs": [],
   "source": [
    "import ffmpeg\n",
    "\n",
    "def extract_audio(input_file):\n",
    "    extracted_audio = f\"audio-{input_file}.wav\"\n",
    "    stream = ffmpeg.input(input_file)\n",
    "    stream = ffmpeg.output(stream, extracted_audio)\n",
    "    ffmpeg.run(stream, overwrite_output=True)\n",
    "    return extracted_audio"
   ],
   "metadata": {
    "collapsed": false,
    "ExecuteTime": {
     "end_time": "2024-08-25T18:52:07.690805500Z",
     "start_time": "2024-08-25T18:52:07.643280300Z"
    }
   },
   "id": "5d10e6a879088dc1",
   "execution_count": 14
  },
  {
   "cell_type": "code",
   "outputs": [],
   "source": [
    "audio_extract = extract_audio('output.mp3')"
   ],
   "metadata": {
    "collapsed": false,
    "ExecuteTime": {
     "end_time": "2024-08-25T18:52:11.817979700Z",
     "start_time": "2024-08-25T18:52:11.748333900Z"
    }
   },
   "id": "4222d216fd61a29b",
   "execution_count": 15
  },
  {
   "cell_type": "code",
   "outputs": [],
   "source": [
    "from faster_whisper import WhisperModel\n",
    "def transcribe(audio):\n",
    "\n",
    "    model = WhisperModel(\"small\")\n",
    "    segments, info = model.transcribe(audio, language=\"en\")\n",
    "    language = info[0]\n",
    "    print(f\" Transcription Language: {language}\")\n",
    "    segments = list(segments) \n",
    "\n",
    "    for segment in segments: \n",
    "        print(\"[%.2fs -> %.2fs] %s\" % (segment.start, segment.end, segment.text))\n",
    "    return language, segments"
   ],
   "metadata": {
    "collapsed": false,
    "ExecuteTime": {
     "end_time": "2024-08-25T18:52:21.036057Z",
     "start_time": "2024-08-25T18:52:13.237988600Z"
    }
   },
   "id": "7bcd0390cea4ae4b",
   "execution_count": 16
  },
  {
   "cell_type": "code",
   "outputs": [
    {
     "name": "stdout",
     "output_type": "stream",
     "text": [
      " Transcription Language: en\n",
      "[0.00s -> 3.84s]  Here are a few jokes that might be suitable for a video.\n",
      "[3.84s -> 5.92s]  Why did the chicken cross the road?\n",
      "[5.92s -> 7.68s]  To get to the other side.\n",
      "[7.68s -> 9.76s]  What do you call a bear with no teeth?\n",
      "[9.76s -> 11.16s]  A gummy bear.\n",
      "[11.16s -> 13.64s]  Why did the banana go to the doctor?\n",
      "[13.64s -> 15.60s]  Because he wasn't feeling well.\n",
      "[15.60s -> 18.00s]  Why did the cookie go to the doctor?\n",
      "[18.00s -> 19.88s]  Because he was feeling crummy.\n",
      "[19.88s -> 22.20s]  Why did the tomato turn red?\n",
      "[22.20s -> 24.32s]  Because it saw the salad dressing.\n",
      "[24.32s -> 26.48s]  What do you call a pony with a cough?\n",
      "[26.48s -> 27.96s]  A little horse.\n",
      "[27.96s -> 30.44s]  Why did the student eat his homework?\n",
      "[30.44s -> 33.04s]  Because the teacher said it was a piece of cake.\n",
      "[33.04s -> 35.76s]  What did the shark say when he ate the clown?\n",
      "[35.76s -> 37.64s]  This tastes a little funny.\n",
      "[37.64s -> 40.08s]  Why did the ghost go to the doctor?\n",
      "[40.08s -> 41.76s]  Because he had a bad cold.\n",
      "[41.76s -> 44.20s]  What do you call a pony with a high IQ?\n",
      "[44.20s -> 46.16s]  A smarty pants.\n",
      "[46.16s -> 50.72s]  These jokes are light-hearted and playful, and may bring a smile to your viewers' faces.\n"
     ]
    }
   ],
   "source": [
    "language, segments = transcribe(audio_extract)"
   ],
   "metadata": {
    "collapsed": false,
    "ExecuteTime": {
     "end_time": "2024-08-25T18:52:28.626030Z",
     "start_time": "2024-08-25T18:52:21.037057500Z"
    }
   },
   "id": "61631d95c40835cc",
   "execution_count": 17
  },
  {
   "cell_type": "code",
   "outputs": [],
   "source": [
    "import math \n",
    "def format_time_for_srt(seconds):\n",
    "    hours = math.floor(seconds / 3600)\n",
    "    seconds %= 3600\n",
    "    minutes = math.floor(seconds / 60)\n",
    "    seconds %=60\n",
    "    milliseconds = round((seconds - math.floor(seconds)) * 1000)\n",
    "    seconds = math.floor(seconds)\n",
    "    formatted_time = f\"{hours :02d}:{minutes:02d}:{seconds:02d},{milliseconds:03d}\"\n",
    "\n",
    "    return formatted_time"
   ],
   "metadata": {
    "collapsed": false,
    "ExecuteTime": {
     "end_time": "2024-08-25T18:52:28.647112800Z",
     "start_time": "2024-08-25T18:52:28.627029800Z"
    }
   },
   "id": "b6a801a84c37e8a4",
   "execution_count": 18
  },
  {
   "cell_type": "code",
   "outputs": [],
   "source": [
    "def generate_subtitle_file(input_file, language, segments):\n",
    "    subtitle_file = f\"sub-{input_file}.{language}.srt\"\n",
    "    text = \"\"\n",
    "    for index, segment in enumerate(segments):\n",
    "        segment_start = format_time_for_srt(segment.start)\n",
    "        segment_end = format_time_for_srt(segment.end)\n",
    "\n",
    "        text += f\"{str(index + 1)}\\n\"\n",
    "        text += f\"{segment_start} --> {segment_end}\\n\"\n",
    "        text += f\"{segment.text}\\n\\n\"\n",
    "    \n",
    "    f = open(subtitle_file, \"w\")\n",
    "    f.write(text)\n",
    "    f.close()\n",
    "\n",
    "    return subtitle_file"
   ],
   "metadata": {
    "collapsed": false,
    "ExecuteTime": {
     "end_time": "2024-08-25T18:52:43.252882700Z",
     "start_time": "2024-08-25T18:52:43.233492100Z"
    }
   },
   "id": "7ae5617798784c54",
   "execution_count": 19
  },
  {
   "cell_type": "code",
   "outputs": [],
   "source": [
    "subtitle_file = generate_subtitle_file('output', language, segments)"
   ],
   "metadata": {
    "collapsed": false,
    "ExecuteTime": {
     "end_time": "2024-08-25T18:52:45.410181Z",
     "start_time": "2024-08-25T18:52:45.401569600Z"
    }
   },
   "id": "6dd8bf2b33469472",
   "execution_count": 20
  },
  {
   "cell_type": "markdown",
   "source": [],
   "metadata": {
    "collapsed": false
   },
   "id": "7c1897334163d700"
  },
  {
   "cell_type": "code",
   "outputs": [
    {
     "name": "stdout",
     "output_type": "stream",
     "text": [
      "env: IMAGEMAGICK_BINARY=\"C:\\Program Files\\ImageMagick-7.1.1-Q16-HDRI\\magick.exe\"\n"
     ]
    }
   ],
   "source": [
    "%env IMAGEMAGICK_BINARY=\"C:\\Program Files\\ImageMagick-7.1.1-Q16-HDRI\\magick.exe\"\n",
    "import os\n",
    "os.environ['IMAGEMAGICK_BINARY'] = \"C:\\Program Files\\ImageMagick-7.1.1-Q16-HDRI\\magick.exe\"\n",
    "from moviepy.config import change_settings\n",
    "\n",
    "change_settings({\"IMAGEMAGICK_BINARY\": \"C:\\Program Files\\ImageMagick-7.1.1-Q16-HDRI\\magick.exe\"})\n"
   ],
   "metadata": {
    "collapsed": false,
    "ExecuteTime": {
     "end_time": "2024-08-25T18:52:47.144170300Z",
     "start_time": "2024-08-25T18:52:47.124698800Z"
    }
   },
   "id": "743f03a274a2ebf4",
   "execution_count": 21
  },
  {
   "cell_type": "markdown",
   "source": [
    "# Save the output video"
   ],
   "metadata": {
    "collapsed": false
   },
   "id": "ace7a5e8e8802f84"
  },
  {
   "cell_type": "code",
   "outputs": [
    {
     "data": {
      "text/plain": "50.69"
     },
     "execution_count": 24,
     "metadata": {},
     "output_type": "execute_result"
    }
   ],
   "source": [
    "from moviepy.audio.io.AudioFileClip import AudioFileClip\n",
    "from moviepy.video.VideoClip import TextClip\n",
    "from moviepy.video.compositing.CompositeVideoClip import CompositeVideoClip\n",
    "from moviepy.video.tools.subtitles import SubtitlesClip\n",
    "\n",
    "generator = lambda txt: TextClip(txt, font='./fonts/Super_Caramel.ttf', fontsize=96, color='white', stroke_color=\"black\", stroke_width=2, method='caption', align='center', size=output_video.size)\n",
    "subtitles = SubtitlesClip(subtitle_file, generator)\n",
    "audio = AudioFileClip('output.mp3')\n",
    "audio_duration = audio.duration\n",
    "\n",
    "audio_duration"
   ],
   "metadata": {
    "collapsed": false,
    "ExecuteTime": {
     "end_time": "2024-08-25T19:02:01.969224800Z",
     "start_time": "2024-08-25T19:02:01.154205800Z"
    }
   },
   "id": "503b144823be359",
   "execution_count": 24
  },
  {
   "cell_type": "code",
   "outputs": [
    {
     "name": "stdout",
     "output_type": "stream",
     "text": [
      "Moviepy - Building video output_video.mp4.\n",
      "MoviePy - Writing audio in output_videoTEMP_MPY_wvf_snd.mp3\n"
     ]
    },
    {
     "name": "stderr",
     "output_type": "stream",
     "text": [
      "                                                                     \r"
     ]
    },
    {
     "name": "stdout",
     "output_type": "stream",
     "text": [
      "MoviePy - Done.\n",
      "Moviepy - Writing video output_video.mp4\n"
     ]
    },
    {
     "name": "stderr",
     "output_type": "stream",
     "text": [
      "                                                                \r"
     ]
    },
    {
     "name": "stdout",
     "output_type": "stream",
     "text": [
      "Moviepy - Done !\n",
      "Moviepy - video ready output_video.mp4\n"
     ]
    }
   ],
   "source": [
    "\n",
    "output_video = output_video.set_duration(audio_duration)\n",
    "\n",
    "output_video = output_video.set_audio(audio)\n",
    "results = CompositeVideoClip([output_video, subtitles.set_pos(('center', 'center'))])\n",
    "\n",
    "results.write_videofile(output_video_path, codec='libx264')"
   ],
   "metadata": {
    "collapsed": false,
    "ExecuteTime": {
     "end_time": "2024-08-25T19:08:00.478751600Z",
     "start_time": "2024-08-25T19:02:04.065286800Z"
    }
   },
   "id": "4783efd5b44c46dd",
   "execution_count": 25
  }
 ],
 "metadata": {
  "kernelspec": {
   "display_name": "Python 3",
   "language": "python",
   "name": "python3"
  },
  "language_info": {
   "codemirror_mode": {
    "name": "ipython",
    "version": 2
   },
   "file_extension": ".py",
   "mimetype": "text/x-python",
   "name": "python",
   "nbconvert_exporter": "python",
   "pygments_lexer": "ipython2",
   "version": "2.7.6"
  }
 },
 "nbformat": 4,
 "nbformat_minor": 5
}
